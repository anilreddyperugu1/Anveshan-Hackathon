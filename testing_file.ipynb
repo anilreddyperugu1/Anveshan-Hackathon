{
 "cells": [
  {
   "cell_type": "code",
   "execution_count": 26,
   "id": "504b7f53",
   "metadata": {},
   "outputs": [],
   "source": [
    "import pandas as pd\n",
    "import pickle\n",
    "import nltk\n",
    "from nltk.corpus import stopwords\n",
    "import re\n",
    "from  nltk.stem.porter import PorterStemmer\n",
    "from tqdm import tqdm\n",
    "from sklearn.metrics import classification_report"
   ]
  },
  {
   "cell_type": "code",
   "execution_count": 27,
   "id": "22096dda",
   "metadata": {},
   "outputs": [],
   "source": [
    "df = pd.read_csv(\"Datasets/test_data.csv\")"
   ]
  },
  {
   "cell_type": "code",
   "execution_count": 28,
   "id": "0510a4d0",
   "metadata": {},
   "outputs": [
    {
     "data": {
      "text/plain": [
       "(3576, 17)"
      ]
     },
     "execution_count": 28,
     "metadata": {},
     "output_type": "execute_result"
    }
   ],
   "source": [
    "df.shape"
   ]
  },
  {
   "cell_type": "code",
   "execution_count": 29,
   "id": "7f0d51c7",
   "metadata": {},
   "outputs": [
    {
     "data": {
      "text/html": [
       "<div>\n",
       "<style scoped>\n",
       "    .dataframe tbody tr th:only-of-type {\n",
       "        vertical-align: middle;\n",
       "    }\n",
       "\n",
       "    .dataframe tbody tr th {\n",
       "        vertical-align: top;\n",
       "    }\n",
       "\n",
       "    .dataframe thead th {\n",
       "        text-align: right;\n",
       "    }\n",
       "</style>\n",
       "<table border=\"1\" class=\"dataframe\">\n",
       "  <thead>\n",
       "    <tr style=\"text-align: right;\">\n",
       "      <th></th>\n",
       "      <th>job_id</th>\n",
       "      <th>title</th>\n",
       "      <th>location</th>\n",
       "      <th>department</th>\n",
       "      <th>salary_range</th>\n",
       "      <th>company_profile</th>\n",
       "      <th>description</th>\n",
       "      <th>requirements</th>\n",
       "      <th>benefits</th>\n",
       "      <th>telecommuting</th>\n",
       "      <th>has_company_logo</th>\n",
       "      <th>has_questions</th>\n",
       "      <th>employment_type</th>\n",
       "      <th>required_experience</th>\n",
       "      <th>required_education</th>\n",
       "      <th>industry</th>\n",
       "      <th>function</th>\n",
       "    </tr>\n",
       "  </thead>\n",
       "  <tbody>\n",
       "    <tr>\n",
       "      <th>0</th>\n",
       "      <td>16996</td>\n",
       "      <td>EXCELLENT ER RN Opportunity Available Now</td>\n",
       "      <td>US, IL, Urbana</td>\n",
       "      <td>NaN</td>\n",
       "      <td>NaN</td>\n",
       "      <td>NaN</td>\n",
       "      <td>Our client, located in Urban, IL, is looking f...</td>\n",
       "      <td>NaN</td>\n",
       "      <td>NaN</td>\n",
       "      <td>0</td>\n",
       "      <td>1</td>\n",
       "      <td>0</td>\n",
       "      <td>Full-time</td>\n",
       "      <td>NaN</td>\n",
       "      <td>NaN</td>\n",
       "      <td>Hospital &amp; Health Care</td>\n",
       "      <td>Health Care Provider</td>\n",
       "    </tr>\n",
       "    <tr>\n",
       "      <th>1</th>\n",
       "      <td>9358</td>\n",
       "      <td>Scrum Master / Website Development Project Man...</td>\n",
       "      <td>US, FL, Tampa</td>\n",
       "      <td>NaN</td>\n",
       "      <td>NaN</td>\n",
       "      <td>352 Inc. is a full-service digital agency crea...</td>\n",
       "      <td>Other agencies may call this job “Project Mana...</td>\n",
       "      <td>Qualifications2-10 years of experience in webs...</td>\n",
       "      <td>What You’ll GetFreedom: We trust you to do you...</td>\n",
       "      <td>0</td>\n",
       "      <td>1</td>\n",
       "      <td>1</td>\n",
       "      <td>Full-time</td>\n",
       "      <td>Mid-Senior level</td>\n",
       "      <td>Bachelor's Degree</td>\n",
       "      <td>Information Technology and Services</td>\n",
       "      <td>Project Management</td>\n",
       "    </tr>\n",
       "    <tr>\n",
       "      <th>2</th>\n",
       "      <td>11562</td>\n",
       "      <td>HR Assistant - Contract</td>\n",
       "      <td>AU, NSW, Sydney</td>\n",
       "      <td>People &amp; Culture</td>\n",
       "      <td>NaN</td>\n",
       "      <td>Squiz is one of the world's leading web soluti...</td>\n",
       "      <td>Squiz is an Australian owned and now multinati...</td>\n",
       "      <td>You could be a graduate or have many years of ...</td>\n",
       "      <td>NaN</td>\n",
       "      <td>0</td>\n",
       "      <td>1</td>\n",
       "      <td>0</td>\n",
       "      <td>Contract</td>\n",
       "      <td>Not Applicable</td>\n",
       "      <td>Unspecified</td>\n",
       "      <td>Information Technology and Services</td>\n",
       "      <td>Human Resources</td>\n",
       "    </tr>\n",
       "    <tr>\n",
       "      <th>3</th>\n",
       "      <td>1106</td>\n",
       "      <td>Regional Sales Director South Africa</td>\n",
       "      <td>ZA, GT, Johannesburg</td>\n",
       "      <td>Sales</td>\n",
       "      <td>NaN</td>\n",
       "      <td>Upstream’s mission is to revolutionise the way...</td>\n",
       "      <td>The Regional Sales Director SA will help deriv...</td>\n",
       "      <td>Knowledge/Skills/ExperienceProven sales and ac...</td>\n",
       "      <td>Includes attractive competitive base salary, c...</td>\n",
       "      <td>0</td>\n",
       "      <td>1</td>\n",
       "      <td>1</td>\n",
       "      <td>Full-time</td>\n",
       "      <td>Director</td>\n",
       "      <td>NaN</td>\n",
       "      <td>Telecommunications</td>\n",
       "      <td>Sales</td>\n",
       "    </tr>\n",
       "    <tr>\n",
       "      <th>4</th>\n",
       "      <td>1981</td>\n",
       "      <td>Petrophysicist</td>\n",
       "      <td>US, OK, Oklahoma City</td>\n",
       "      <td>NaN</td>\n",
       "      <td>NaN</td>\n",
       "      <td>Valor Services provides Workforce Solutions th...</td>\n",
       "      <td>About the CompanyThis is an amazing job opport...</td>\n",
       "      <td>Education: Bachelor’s degree in Geology, Geoph...</td>\n",
       "      <td>Industry, Location and CompensationIndustry: E...</td>\n",
       "      <td>0</td>\n",
       "      <td>1</td>\n",
       "      <td>0</td>\n",
       "      <td>Full-time</td>\n",
       "      <td>Associate</td>\n",
       "      <td>Bachelor's Degree</td>\n",
       "      <td>Oil &amp; Energy</td>\n",
       "      <td>NaN</td>\n",
       "    </tr>\n",
       "  </tbody>\n",
       "</table>\n",
       "</div>"
      ],
      "text/plain": [
       "   job_id                                              title  \\\n",
       "0   16996          EXCELLENT ER RN Opportunity Available Now   \n",
       "1    9358  Scrum Master / Website Development Project Man...   \n",
       "2   11562                            HR Assistant - Contract   \n",
       "3    1106               Regional Sales Director South Africa   \n",
       "4    1981                                    Petrophysicist    \n",
       "\n",
       "                location        department salary_range  \\\n",
       "0         US, IL, Urbana               NaN          NaN   \n",
       "1          US, FL, Tampa               NaN          NaN   \n",
       "2        AU, NSW, Sydney  People & Culture          NaN   \n",
       "3   ZA, GT, Johannesburg             Sales          NaN   \n",
       "4  US, OK, Oklahoma City               NaN          NaN   \n",
       "\n",
       "                                     company_profile  \\\n",
       "0                                                NaN   \n",
       "1  352 Inc. is a full-service digital agency crea...   \n",
       "2  Squiz is one of the world's leading web soluti...   \n",
       "3  Upstream’s mission is to revolutionise the way...   \n",
       "4  Valor Services provides Workforce Solutions th...   \n",
       "\n",
       "                                         description  \\\n",
       "0  Our client, located in Urban, IL, is looking f...   \n",
       "1  Other agencies may call this job “Project Mana...   \n",
       "2  Squiz is an Australian owned and now multinati...   \n",
       "3  The Regional Sales Director SA will help deriv...   \n",
       "4  About the CompanyThis is an amazing job opport...   \n",
       "\n",
       "                                        requirements  \\\n",
       "0                                                NaN   \n",
       "1  Qualifications2-10 years of experience in webs...   \n",
       "2  You could be a graduate or have many years of ...   \n",
       "3  Knowledge/Skills/ExperienceProven sales and ac...   \n",
       "4  Education: Bachelor’s degree in Geology, Geoph...   \n",
       "\n",
       "                                            benefits  telecommuting  \\\n",
       "0                                                NaN              0   \n",
       "1  What You’ll GetFreedom: We trust you to do you...              0   \n",
       "2                                                NaN              0   \n",
       "3  Includes attractive competitive base salary, c...              0   \n",
       "4  Industry, Location and CompensationIndustry: E...              0   \n",
       "\n",
       "   has_company_logo  has_questions employment_type required_experience  \\\n",
       "0                 1              0       Full-time                 NaN   \n",
       "1                 1              1       Full-time    Mid-Senior level   \n",
       "2                 1              0        Contract      Not Applicable   \n",
       "3                 1              1       Full-time            Director   \n",
       "4                 1              0       Full-time           Associate   \n",
       "\n",
       "  required_education                             industry  \\\n",
       "0                NaN               Hospital & Health Care   \n",
       "1  Bachelor's Degree  Information Technology and Services   \n",
       "2        Unspecified  Information Technology and Services   \n",
       "3                NaN                   Telecommunications   \n",
       "4  Bachelor's Degree                         Oil & Energy   \n",
       "\n",
       "               function  \n",
       "0  Health Care Provider  \n",
       "1    Project Management  \n",
       "2       Human Resources  \n",
       "3                 Sales  \n",
       "4                   NaN  "
      ]
     },
     "execution_count": 29,
     "metadata": {},
     "output_type": "execute_result"
    }
   ],
   "source": [
    "df.head()"
   ]
  },
  {
   "cell_type": "code",
   "execution_count": 30,
   "id": "c444f3b8",
   "metadata": {},
   "outputs": [
    {
     "name": "stdout",
     "output_type": "stream",
     "text": [
      "<class 'pandas.core.frame.DataFrame'>\n",
      "RangeIndex: 3576 entries, 0 to 3575\n",
      "Data columns (total 17 columns):\n",
      " #   Column               Non-Null Count  Dtype \n",
      "---  ------               --------------  ----- \n",
      " 0   job_id               3576 non-null   int64 \n",
      " 1   title                3576 non-null   object\n",
      " 2   location             3510 non-null   object\n",
      " 3   department           1304 non-null   object\n",
      " 4   salary_range         585 non-null    object\n",
      " 5   company_profile      2940 non-null   object\n",
      " 6   description          3576 non-null   object\n",
      " 7   requirements         3012 non-null   object\n",
      " 8   benefits             2167 non-null   object\n",
      " 9   telecommuting        3576 non-null   int64 \n",
      " 10  has_company_logo     3576 non-null   int64 \n",
      " 11  has_questions        3576 non-null   int64 \n",
      " 12  employment_type      2862 non-null   object\n",
      " 13  required_experience  2201 non-null   object\n",
      " 14  required_education   1970 non-null   object\n",
      " 15  industry             2599 non-null   object\n",
      " 16  function             2290 non-null   object\n",
      "dtypes: int64(4), object(13)\n",
      "memory usage: 475.1+ KB\n"
     ]
    }
   ],
   "source": [
    "df.info()"
   ]
  },
  {
   "cell_type": "code",
   "execution_count": 31,
   "id": "e3345c97",
   "metadata": {},
   "outputs": [],
   "source": [
    "new_df=df.drop(columns=['job_id', 'location','department','salary_range', 'telecommuting', 'has_company_logo', 'has_questions', 'employment_type', 'required_experience','required_education', 'industry', 'function'], axis=1)"
   ]
  },
  {
   "cell_type": "code",
   "execution_count": 32,
   "id": "95e8c8ad",
   "metadata": {},
   "outputs": [
    {
     "name": "stdout",
     "output_type": "stream",
     "text": [
      "<class 'pandas.core.frame.DataFrame'>\n",
      "RangeIndex: 3576 entries, 0 to 3575\n",
      "Data columns (total 5 columns):\n",
      " #   Column           Non-Null Count  Dtype \n",
      "---  ------           --------------  ----- \n",
      " 0   title            3576 non-null   object\n",
      " 1   company_profile  2940 non-null   object\n",
      " 2   description      3576 non-null   object\n",
      " 3   requirements     3012 non-null   object\n",
      " 4   benefits         2167 non-null   object\n",
      "dtypes: object(5)\n",
      "memory usage: 139.8+ KB\n"
     ]
    }
   ],
   "source": [
    "new_df.info()"
   ]
  },
  {
   "cell_type": "code",
   "execution_count": 33,
   "id": "97e8613f",
   "metadata": {},
   "outputs": [
    {
     "data": {
      "text/plain": [
       "title                 0\n",
       "company_profile     636\n",
       "description           0\n",
       "requirements        564\n",
       "benefits           1409\n",
       "dtype: int64"
      ]
     },
     "execution_count": 33,
     "metadata": {},
     "output_type": "execute_result"
    }
   ],
   "source": [
    "new_df.isnull().sum()"
   ]
  },
  {
   "cell_type": "code",
   "execution_count": 34,
   "id": "686c9716",
   "metadata": {},
   "outputs": [
    {
     "name": "stderr",
     "output_type": "stream",
     "text": [
      "C:\\Users\\perug\\AppData\\Local\\Temp\\ipykernel_26836\\1094426381.py:1: FutureWarning: A value is trying to be set on a copy of a DataFrame or Series through chained assignment using an inplace method.\n",
      "The behavior will change in pandas 3.0. This inplace method will never work because the intermediate object on which we are setting values always behaves as a copy.\n",
      "\n",
      "For example, when doing 'df[col].method(value, inplace=True)', try using 'df.method({col: value}, inplace=True)' or df[col] = df[col].method(value) instead, to perform the operation inplace on the original object.\n",
      "\n",
      "\n",
      "  new_df[\"company_profile\"].fillna(new_df[\"company_profile\"].mode()[0], inplace=True)\n",
      "C:\\Users\\perug\\AppData\\Local\\Temp\\ipykernel_26836\\1094426381.py:2: FutureWarning: A value is trying to be set on a copy of a DataFrame or Series through chained assignment using an inplace method.\n",
      "The behavior will change in pandas 3.0. This inplace method will never work because the intermediate object on which we are setting values always behaves as a copy.\n",
      "\n",
      "For example, when doing 'df[col].method(value, inplace=True)', try using 'df.method({col: value}, inplace=True)' or df[col] = df[col].method(value) instead, to perform the operation inplace on the original object.\n",
      "\n",
      "\n",
      "  new_df[\"requirements\"].fillna(new_df[\"requirements\"].mode()[0], inplace=True)\n",
      "C:\\Users\\perug\\AppData\\Local\\Temp\\ipykernel_26836\\1094426381.py:3: FutureWarning: A value is trying to be set on a copy of a DataFrame or Series through chained assignment using an inplace method.\n",
      "The behavior will change in pandas 3.0. This inplace method will never work because the intermediate object on which we are setting values always behaves as a copy.\n",
      "\n",
      "For example, when doing 'df[col].method(value, inplace=True)', try using 'df.method({col: value}, inplace=True)' or df[col] = df[col].method(value) instead, to perform the operation inplace on the original object.\n",
      "\n",
      "\n",
      "  new_df[\"benefits\"].fillna(new_df[\"benefits\"].mode()[0], inplace=True)\n"
     ]
    }
   ],
   "source": [
    "new_df[\"company_profile\"].fillna(new_df[\"company_profile\"].mode()[0], inplace=True)\n",
    "new_df[\"requirements\"].fillna(new_df[\"requirements\"].mode()[0], inplace=True)\n",
    "new_df[\"benefits\"].fillna(new_df[\"benefits\"].mode()[0], inplace=True)"
   ]
  },
  {
   "cell_type": "code",
   "execution_count": 35,
   "id": "2baba635",
   "metadata": {},
   "outputs": [
    {
     "data": {
      "text/plain": [
       "title              0\n",
       "company_profile    0\n",
       "description        0\n",
       "requirements       0\n",
       "benefits           0\n",
       "dtype: int64"
      ]
     },
     "execution_count": 35,
     "metadata": {},
     "output_type": "execute_result"
    }
   ],
   "source": [
    "new_df.isnull().sum()"
   ]
  },
  {
   "cell_type": "code",
   "execution_count": 36,
   "id": "9736738b",
   "metadata": {},
   "outputs": [],
   "source": [
    "new_df['merged_data'] = new_df[\"title\"]+\" \"+new_df[\"company_profile\"]+\" \"+new_df['description']+\" \"+new_df[\"requirements\"]+new_df[\"benefits\"]"
   ]
  },
  {
   "cell_type": "code",
   "execution_count": 37,
   "id": "578ef677",
   "metadata": {},
   "outputs": [
    {
     "name": "stdout",
     "output_type": "stream",
     "text": [
      "0       EXCELLENT ER RN Opportunity Available Now We P...\n",
      "1       Scrum Master / Website Development Project Man...\n",
      "2       HR Assistant - Contract Squiz is one of the wo...\n",
      "3       Regional Sales Director South Africa Upstream’...\n",
      "4       Petrophysicist  Valor Services provides Workfo...\n",
      "                              ...                        \n",
      "3571    Walkin for Sales / Marketing Specialist  We Pr...\n",
      "3572    Home Health CNA--Arco, ID Critical Nurse Staff...\n",
      "3573    Software Engineer (Senior and Junior) We belie...\n",
      "3574    Work with us BillGuard is a personal finance s...\n",
      "3575    OF | UX DESIGNER, MOBILE APP @OP !!! Kettle is...\n",
      "Name: merged_data, Length: 3576, dtype: object\n"
     ]
    }
   ],
   "source": [
    "print(new_df['merged_data'])"
   ]
  },
  {
   "cell_type": "code",
   "execution_count": 38,
   "id": "900a09f6",
   "metadata": {},
   "outputs": [
    {
     "name": "stdout",
     "output_type": "stream",
     "text": [
      "{'mustn', 'as', 'until', 'an', \"hadn't\", 'where', 'you', 'each', 'between', \"they've\", \"aren't\", 'hadn', \"it'd\", \"i'll\", 'once', 'i', 'ourselves', 'own', 'their', 'both', \"we'll\", 'do', \"couldn't\", 'of', 'won', 'them', 'are', 'why', \"that'll\", 'yours', 'off', 'hasn', 'our', 'by', 'any', \"it'll\", 'herself', 'before', \"i'm\", 've', 'because', 's', \"shan't\", 'there', 'into', 'not', 'does', 'out', 'above', 'shan', 'very', 'didn', 'under', 'ain', 'than', 'through', 'shouldn', 'just', 'm', \"wasn't\", \"hasn't\", 'yourselves', 'most', \"they'll\", \"they'd\", 'nor', 'your', 'such', 'other', \"you've\", 'all', 'but', 'did', 'about', \"he's\", 'himself', 'few', \"weren't\", 'y', 'can', \"we've\", \"isn't\", \"needn't\", 'aren', 'so', 'when', \"she's\", \"mightn't\", 'has', 'my', \"should've\", 'doing', 'down', 'myself', 'again', 'over', 'themselves', 'ours', 'needn', 'were', 'only', 'then', 'too', 'after', \"you're\", 'during', 'whom', 'how', 'had', 'up', 'itself', 'couldn', 'and', 'isn', 'is', 'hers', 'a', 'from', \"i'd\", \"shouldn't\", 'to', 'being', \"doesn't\", 'those', \"wouldn't\", \"mustn't\", \"you'll\", 'who', 't', 'me', 'should', 'will', \"we're\", 'further', \"you'd\", 'these', \"haven't\", 'having', 'if', 'we', \"don't\", 'what', 'this', 'same', 'against', 'ma', 'am', 'in', \"he'll\", 'doesn', 'that', 'they', 'here', 'wasn', 'below', \"i've\", 'its', 're', 'with', 'on', 'theirs', 'yourself', \"they're\", 'don', 'or', 'she', \"we'd\", 'it', 'been', \"she'll\", 'have', 'at', 'for', 'he', 'll', 'was', 'the', 'o', 'some', 'weren', \"he'd\", \"it's\", 'while', \"didn't\", 'mightn', 'wouldn', 'which', 'd', 'be', 'now', \"she'd\", 'her', 'more', \"won't\", 'no', 'haven', 'his', 'him'}\n"
     ]
    },
    {
     "name": "stderr",
     "output_type": "stream",
     "text": [
      "[nltk_data] Downloading package stopwords to\n",
      "[nltk_data]     C:\\Users\\perug\\AppData\\Roaming\\nltk_data...\n",
      "[nltk_data]   Package stopwords is already up-to-date!\n"
     ]
    }
   ],
   "source": [
    "nltk.download('stopwords')\n",
    "stop_words = set(stopwords.words('english'))\n",
    "print(stop_words)"
   ]
  },
  {
   "cell_type": "code",
   "execution_count": 39,
   "id": "c3ec8487",
   "metadata": {},
   "outputs": [],
   "source": [
    "port_stem = PorterStemmer()"
   ]
  },
  {
   "cell_type": "code",
   "execution_count": 40,
   "id": "ada17a7d",
   "metadata": {},
   "outputs": [],
   "source": [
    "def preprocess_text(text):\n",
    "    return re.sub(r'[^a-zA-Z]', \" \", text).lower()"
   ]
  },
  {
   "cell_type": "code",
   "execution_count": 41,
   "id": "000d1cc7",
   "metadata": {},
   "outputs": [],
   "source": [
    "def stemming(content):\n",
    "        words = content.split()  # Tokenize words\n",
    "        return \" \".join([port_stem.stem(word) for word in words if word not in stop_words])"
   ]
  },
  {
   "cell_type": "code",
   "execution_count": 42,
   "id": "6a1d0c37",
   "metadata": {},
   "outputs": [],
   "source": [
    "tqdm.pandas()"
   ]
  },
  {
   "cell_type": "code",
   "execution_count": 43,
   "id": "043c033a",
   "metadata": {},
   "outputs": [
    {
     "name": "stderr",
     "output_type": "stream",
     "text": [
      "100%|██████████| 3576/3576 [00:14<00:00, 250.76it/s]\n"
     ]
    }
   ],
   "source": [
    "new_df['merged_data'] = new_df['merged_data'].progress_apply(lambda x:stemming(preprocess_text(x)))"
   ]
  },
  {
   "cell_type": "code",
   "execution_count": 44,
   "id": "654e23c1",
   "metadata": {},
   "outputs": [],
   "source": [
    "X = new_df[\"merged_data\"].values"
   ]
  },
  {
   "cell_type": "code",
   "execution_count": 51,
   "id": "24621f6e",
   "metadata": {},
   "outputs": [
    {
     "name": "stdout",
     "output_type": "stream",
     "text": [
      "['excel er rn opportun avail provid full time perman posit mani medium larg us compani interest find recruit high qualiti candid engin manufactur highli technic non technic job client locat urban il look er rn becom member team asap client institut high qualiti care medic research educ serv peopl client healthcar leader central illinoi level trauma center bed magnet hospit client employe reflect organ valu integr collabor account respect excel effort improv health peopl serv provid world class healthcar work environ fulli integr epic electron medic recordsst art facilitiestuit assist continu medic educ opportun full part time employeesform mentor program avail eas employe transitionsmagnet design sinc incent join team sign bonu limit time offer reloc mile reloc mile enhanc rn compens plan base year experi enhanc paid time hour base cumul year rn experi profession nurs advanc program design recogn reward regist nurs profession contribut work perform need must year ed experienceexperi ed volum plusaclspalstn tncc preferredtrauma center experi pluswork minimum hour per weekif sound like someth would interest pleas submit resum immedi consider salari hrshift day night rotat must flexibl rotat shift univers degre requir tefl tesol celta teach experi prefer necessarycanada us passport holder onlyse job descript'\n",
      " 'scrum master websit develop project manag inc full servic digit agenc creat websit softwar market campaign partner great client build smart solut drive result believ everyth start inspir peopl come digit experi defin busi design delight built grow agenc may call job project manag account manag like use word rather web design softwar develop work person team member team equal contribut success project use agil scrum stay true realli look scrum master scrum master synchron effort develop team client remov obstacl may aris project work ideal person coordin develop team effort throughout lifecycl web design softwar develop projectalign resourc team market qualiti assur server supportoff strateg input client digit strategyperform qualiti assur work team producingmast agil scrum principl appli develop team workflowonboard client agil scrum approachbuild maintain excel relationship everi client team memberhypercommun keep everyon involv project fulli date timesmaintain team schedul solicit new work assign evalu team revenu qualif year experi websit softwar project manag excel commun client develop strong understand websit applic includ oper market strong understand content manag system strong knowledg administr back end train other use tool organ detail orient manag stress well scrum master certif plu getfreedom trust thing well educ sizabl confer budget get learn got invit speak even better bonus reward good work enough said benefit health dental insur provid employ match retir program see benefit valuesinspir fascin industri teamwork best result come collabor relationship care lot teammat client smart solut thing right way necessarili easi way celebr celebr win whether exceed client kpi win h r e'\n",
      " 'hr assist contract squiz one world lead web solut compani design build manag engag websit onlin applic use web experi manag suit squiz suit client includ mani household name rang larg global organis govern bodi chariti intern network offic australia uk usa new zealand poland employ perman member staff team talent motiv enthusiast live breath web passion find new innov solut use squiz product alongsid latest web technolog staff give offer high level autonomi respons opportun return squiz australian own multin softwar profession servic compani web engag space team compris around full time staff global softwar recognis industri analyst world class grow strongli revenu growth amp success highli competit environ come chiefli attract grade peopl engag empow give best excit opportun hr administr join busi month contract view perm report peopl amp cultur manag work close talent acquisit specialist respons manag administr team name task relat hire advertis help write ad post job board social channelsensur applic job board referr etc receiv upload onto applic track system review refer checksprepar new employe contract amp set soft copi employe filesmanag admin associ introduc newbi busi board process hr administr duti manag schedul hous profession develop trainingoh adminattend quarterli oh meetingrecord meet note action pointsupd p amp c monthli report hr metricshandl polici inquiri refer manag employe inform requir escal necessari could graduat mani year experi main qualiti look squiz dna peopl whoar capabl reliabl responsiblear alway will lend hand roll sleev approachar trustworthi honour bit cheeki ok maintain construct posit outlook e give rather sap energi team player egoist capac laugh themselvessup organis time manag prioritis skillsgreat commun skillsabl maintain high level accuraci prepar enter informationbas understand human resourc recruit employe relations exhibit high level confidentialityse job descript'\n",
      " ...\n",
      " 'softwar engin senior junior believ citi complic mobil devic save everyday challeng live small dedic team base somewher london background transport googl app design invest academia ventur capit back number fanci pant investor includ balderton capit index ventur greylock partner connect ventur well angel motiv solv hard fundament everyday problem improv qualiti peopl live like simplifi complex reinvent user experi work data ship fast humanis seriou space hire look great engin solv big problem world thing work right ultim multimod router tell differ way get b omnivor transport data processor fuse togeth load data sourc wildli vari qualiti give peopl inform need grow number citi around world fast scalabl stabl server larg user base reli us give snappi answer everi day search know exactli mean want smart enough never type letter find place head psychic citi brain dig pattern urban data tell peopl answer need know commut know question autom system let us know break thing support wide rang develop mobil web featur experi aid urban travel mani secret project share join circl trust skill burn desir help thing yet reveal madcap scheme want hear use lot python c java experi plu necessari quick studi gener know build scalabl system previou experi public transport geograph data big plu still pretti small appreci peopl mani skill enjoy pitch area time time see job descript'\n",
      " 'work us billguard person financ secur servic power collect knowledg million peopl famili data scientist mathematician secur expert industri leader come togeth protect consum facilit share knowledg patent pend big data analyt advanc crowdsourc techniqu billguard iphon android app fastest smartest way track spend save money first smart inbox money app priorit noteworthi charg credit debit card scan card activ question charg base new york tel aviv back world top investor billguard featur promin wall street journal ny time economist well abc cb news work usw small famili data love geek alway look great new talent join us current open posit pleas feel free send us resum contact relev posit open univers degre requir tefl tesol celta teach experi prefer necessarycanada us passport holder onlyse job descript'\n",
      " 'ux design mobil app op kettl independ digit agenc base new york citi bay area commit make digit peopl brand believ digit world offer meet eye everi onlin experi potenti chang life brand even chang world carri philosophi everi product build kettl team passion fearless creativ focus deliv great product redefin best practic provid new opportun client brand team continu grow look senior interact design ux portfolio demonstr exampl engag intuit interact web mobil applic work project fortun compani startup influenc approach truli uniqu opportun make differ entrepreneuri world get specif meet person collabor visual design product strategist develop design new featur enhanc exist one establish reinforc consist ux pattern across platform respons help defin design valu identifi user need action behavior emot research deliv end end client solut balanc busi goal user needsb facilit client interact assist workshop develop user research user test consensu build among teamseffect commun idea opportun detail interact client team membersconduct co creation client includ build scenario persona storyboard user journey transform idea busi opportun research creativ vision tangibl product servic provid clear usabl use desir outcom usersappli best practic design approach method toward deliv best class experiencesprovid inform architectur diagram detail wirefram system diagram key flow explain full experi detail usersb evangel design process engag clientswork collabor key project team member includ tech lead strategi pm ux creativ leadswork close develop team ensur design deliveri meet high qualiti standardseffect act client feedback user test result learn iter product matur state deliv better valu clientsb champion design standard best practicepush boundari expect outcom toward new way see address problem must year interact experi either agenc product relat environ design consum face applic websit mobil experi demonstr past expertis build success engag mobil applic experi build content commun mobil app plusexperi develop launch mobil applic current io chrome versionsmust abl co locat nyc collabor workspaceexperi use lean agil product develop model prototyp experi one tool axur url bda e dbf c ca cbda cd c c ba b cf flinto invisionprevi engag workshop facilit planningstrong profici develop wirefram site map user journey strong experi design specif tool illustr omnigraffl sketch indesignflu present skill explain detail interact scenario stori board competit health insur dental insur retir plan match gener vacat polici free snack soda beer team outing parti drink karaok whitewat raft holiday parti annual kettl royal hous hackathon gorgeou new offic']\n"
     ]
    }
   ],
   "source": [
    "print(X)"
   ]
  },
  {
   "cell_type": "code",
   "execution_count": 52,
   "id": "38d1a76c",
   "metadata": {},
   "outputs": [],
   "source": [
    "vectorizer = pickle.load(open(\"models/xgboost_vectorizer.pkl\", \"rb\"))\n",
    "model = pickle.load(open(\"models/xg_boostmodel.pkl\", \"rb\"))"
   ]
  },
  {
   "cell_type": "code",
   "execution_count": 53,
   "id": "60947744",
   "metadata": {},
   "outputs": [],
   "source": [
    "X_transformed = vectorizer.transform(X)"
   ]
  },
  {
   "cell_type": "code",
   "execution_count": 54,
   "id": "23818f5f",
   "metadata": {},
   "outputs": [],
   "source": [
    "y_pred = model.predict(X_transformed)"
   ]
  },
  {
   "cell_type": "code",
   "execution_count": 57,
   "id": "6dd5fffb",
   "metadata": {},
   "outputs": [
    {
     "name": "stdout",
     "output_type": "stream",
     "text": [
      "[0 0 0 ... 0 0 0]\n"
     ]
    }
   ],
   "source": [
    "print(y_pred)"
   ]
  }
 ],
 "metadata": {
  "kernelspec": {
   "display_name": "base",
   "language": "python",
   "name": "python3"
  },
  "language_info": {
   "codemirror_mode": {
    "name": "ipython",
    "version": 3
   },
   "file_extension": ".py",
   "mimetype": "text/x-python",
   "name": "python",
   "nbconvert_exporter": "python",
   "pygments_lexer": "ipython3",
   "version": "3.12.7"
  }
 },
 "nbformat": 4,
 "nbformat_minor": 5
}
