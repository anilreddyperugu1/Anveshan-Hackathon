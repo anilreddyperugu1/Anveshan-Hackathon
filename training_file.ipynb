{
 "cells": [
  {
   "cell_type": "code",
   "execution_count": 112,
   "id": "e845db26",
   "metadata": {},
   "outputs": [],
   "source": [
    "import pandas as pd\n",
    "import re\n",
    "import nltk\n",
    "import matplotlib.pyplot as plt\n",
    "import seaborn as sns\n",
    "from nltk.corpus import stopwords\n",
    "from nltk.stem.porter import PorterStemmer\n",
    "from sklearn.model_selection import train_test_split\n",
    "from sklearn.feature_extraction.text import TfidfVectorizer\n",
    "from sklearn.metrics import classification_report\n",
    "from sklearn.metrics import accuracy_score\n",
    "from sklearn.metrics import f1_score\n",
    "from sklearn.linear_model import LogisticRegression\n",
    "from tqdm import tqdm\n",
    "import pickle"
   ]
  },
  {
   "cell_type": "code",
   "execution_count": 73,
   "id": "061ff0bf",
   "metadata": {},
   "outputs": [],
   "source": [
    "df = pd.read_csv(\"Datasets/training_data.csv\")"
   ]
  },
  {
   "cell_type": "code",
   "execution_count": 74,
   "id": "7a3d1a7a",
   "metadata": {},
   "outputs": [
    {
     "data": {
      "text/plain": [
       "(14304, 18)"
      ]
     },
     "execution_count": 74,
     "metadata": {},
     "output_type": "execute_result"
    }
   ],
   "source": [
    "df.shape"
   ]
  },
  {
   "cell_type": "code",
   "execution_count": 75,
   "id": "1aed5691",
   "metadata": {},
   "outputs": [
    {
     "data": {
      "text/html": [
       "<div>\n",
       "<style scoped>\n",
       "    .dataframe tbody tr th:only-of-type {\n",
       "        vertical-align: middle;\n",
       "    }\n",
       "\n",
       "    .dataframe tbody tr th {\n",
       "        vertical-align: top;\n",
       "    }\n",
       "\n",
       "    .dataframe thead th {\n",
       "        text-align: right;\n",
       "    }\n",
       "</style>\n",
       "<table border=\"1\" class=\"dataframe\">\n",
       "  <thead>\n",
       "    <tr style=\"text-align: right;\">\n",
       "      <th></th>\n",
       "      <th>job_id</th>\n",
       "      <th>title</th>\n",
       "      <th>location</th>\n",
       "      <th>department</th>\n",
       "      <th>salary_range</th>\n",
       "      <th>company_profile</th>\n",
       "      <th>description</th>\n",
       "      <th>requirements</th>\n",
       "      <th>benefits</th>\n",
       "      <th>telecommuting</th>\n",
       "      <th>has_company_logo</th>\n",
       "      <th>has_questions</th>\n",
       "      <th>employment_type</th>\n",
       "      <th>required_experience</th>\n",
       "      <th>required_education</th>\n",
       "      <th>industry</th>\n",
       "      <th>function</th>\n",
       "      <th>fraudulent</th>\n",
       "    </tr>\n",
       "  </thead>\n",
       "  <tbody>\n",
       "    <tr>\n",
       "      <th>0</th>\n",
       "      <td>7531</td>\n",
       "      <td>Contact Center Representatives</td>\n",
       "      <td>US, VA, Virginia Beach</td>\n",
       "      <td>NaN</td>\n",
       "      <td>NaN</td>\n",
       "      <td>Tidewater Finance Co. was established in 1992 ...</td>\n",
       "      <td>Tidewater Finance Company, located in Virginia...</td>\n",
       "      <td>The position requires the following qualificat...</td>\n",
       "      <td>Our company offers a competitive salary plus B...</td>\n",
       "      <td>0</td>\n",
       "      <td>1</td>\n",
       "      <td>0</td>\n",
       "      <td>Full-time</td>\n",
       "      <td>Entry level</td>\n",
       "      <td>Unspecified</td>\n",
       "      <td>Financial Services</td>\n",
       "      <td>Customer Service</td>\n",
       "      <td>0</td>\n",
       "    </tr>\n",
       "    <tr>\n",
       "      <th>1</th>\n",
       "      <td>130</td>\n",
       "      <td>Customer Service Associate</td>\n",
       "      <td>US, TX, Dallas</td>\n",
       "      <td>NaN</td>\n",
       "      <td>NaN</td>\n",
       "      <td>Novitex Enterprise Solutions, formerly Pitney ...</td>\n",
       "      <td>The Customer Service Associate will be based i...</td>\n",
       "      <td>QualificationsMinimum of 1 year customer servi...</td>\n",
       "      <td>NaN</td>\n",
       "      <td>0</td>\n",
       "      <td>1</td>\n",
       "      <td>0</td>\n",
       "      <td>Full-time</td>\n",
       "      <td>Entry level</td>\n",
       "      <td>High School or equivalent</td>\n",
       "      <td>Telecommunications</td>\n",
       "      <td>Customer Service</td>\n",
       "      <td>0</td>\n",
       "    </tr>\n",
       "    <tr>\n",
       "      <th>2</th>\n",
       "      <td>4641</td>\n",
       "      <td>Automated Test Analyst</td>\n",
       "      <td>NZ, , Auckland</td>\n",
       "      <td>Permanent</td>\n",
       "      <td>NaN</td>\n",
       "      <td>SilverStripe CMS &amp;amp; Framework is an open so...</td>\n",
       "      <td>We are looking for a dedicated and passionate ...</td>\n",
       "      <td>NaN</td>\n",
       "      <td>NaN</td>\n",
       "      <td>0</td>\n",
       "      <td>1</td>\n",
       "      <td>1</td>\n",
       "      <td>Full-time</td>\n",
       "      <td>Mid-Senior level</td>\n",
       "      <td>NaN</td>\n",
       "      <td>Information Technology and Services</td>\n",
       "      <td>NaN</td>\n",
       "      <td>0</td>\n",
       "    </tr>\n",
       "    <tr>\n",
       "      <th>3</th>\n",
       "      <td>403</td>\n",
       "      <td>Inside Sales Professional-Omaha</td>\n",
       "      <td>US, NE, Omaha</td>\n",
       "      <td>NaN</td>\n",
       "      <td>NaN</td>\n",
       "      <td>ABC Supply Co., Inc. is the nation’s largest w...</td>\n",
       "      <td>As a Sales Representative, you will provide as...</td>\n",
       "      <td>As a Sales Representative, you must have the a...</td>\n",
       "      <td>Your benefits package as a Sales Representativ...</td>\n",
       "      <td>0</td>\n",
       "      <td>1</td>\n",
       "      <td>0</td>\n",
       "      <td>Full-time</td>\n",
       "      <td>NaN</td>\n",
       "      <td>NaN</td>\n",
       "      <td>Building Materials</td>\n",
       "      <td>Sales</td>\n",
       "      <td>0</td>\n",
       "    </tr>\n",
       "    <tr>\n",
       "      <th>4</th>\n",
       "      <td>13219</td>\n",
       "      <td>Content Marketing/SEO Manager</td>\n",
       "      <td>US, CA, Los Angeles</td>\n",
       "      <td>Marketing</td>\n",
       "      <td>NaN</td>\n",
       "      <td>MeUndies is a lifestyle brand that is transfor...</td>\n",
       "      <td>MeUndies is a lifestyle brand that is transfor...</td>\n",
       "      <td>REQUIREMENTS/QUALIFICATIONS/PERSONAL ATTRIBUTE...</td>\n",
       "      <td>WHY MEUNDIES?We're a fast-growing, VC-backed c...</td>\n",
       "      <td>0</td>\n",
       "      <td>1</td>\n",
       "      <td>0</td>\n",
       "      <td>Full-time</td>\n",
       "      <td>Mid-Senior level</td>\n",
       "      <td>Bachelor's Degree</td>\n",
       "      <td>Internet</td>\n",
       "      <td>Marketing</td>\n",
       "      <td>0</td>\n",
       "    </tr>\n",
       "  </tbody>\n",
       "</table>\n",
       "</div>"
      ],
      "text/plain": [
       "   job_id                            title                location department  \\\n",
       "0    7531   Contact Center Representatives  US, VA, Virginia Beach        NaN   \n",
       "1     130      Customer Service Associate           US, TX, Dallas        NaN   \n",
       "2    4641           Automated Test Analyst         NZ, , Auckland   Permanent   \n",
       "3     403  Inside Sales Professional-Omaha           US, NE, Omaha        NaN   \n",
       "4   13219    Content Marketing/SEO Manager     US, CA, Los Angeles  Marketing   \n",
       "\n",
       "  salary_range                                    company_profile  \\\n",
       "0          NaN  Tidewater Finance Co. was established in 1992 ...   \n",
       "1          NaN  Novitex Enterprise Solutions, formerly Pitney ...   \n",
       "2          NaN  SilverStripe CMS &amp; Framework is an open so...   \n",
       "3          NaN  ABC Supply Co., Inc. is the nation’s largest w...   \n",
       "4          NaN  MeUndies is a lifestyle brand that is transfor...   \n",
       "\n",
       "                                         description  \\\n",
       "0  Tidewater Finance Company, located in Virginia...   \n",
       "1  The Customer Service Associate will be based i...   \n",
       "2  We are looking for a dedicated and passionate ...   \n",
       "3  As a Sales Representative, you will provide as...   \n",
       "4  MeUndies is a lifestyle brand that is transfor...   \n",
       "\n",
       "                                        requirements  \\\n",
       "0  The position requires the following qualificat...   \n",
       "1  QualificationsMinimum of 1 year customer servi...   \n",
       "2                                                NaN   \n",
       "3  As a Sales Representative, you must have the a...   \n",
       "4  REQUIREMENTS/QUALIFICATIONS/PERSONAL ATTRIBUTE...   \n",
       "\n",
       "                                            benefits  telecommuting  \\\n",
       "0  Our company offers a competitive salary plus B...              0   \n",
       "1                                                NaN              0   \n",
       "2                                                NaN              0   \n",
       "3  Your benefits package as a Sales Representativ...              0   \n",
       "4  WHY MEUNDIES?We're a fast-growing, VC-backed c...              0   \n",
       "\n",
       "   has_company_logo  has_questions employment_type required_experience  \\\n",
       "0                 1              0       Full-time         Entry level   \n",
       "1                 1              0       Full-time         Entry level   \n",
       "2                 1              1       Full-time    Mid-Senior level   \n",
       "3                 1              0       Full-time                 NaN   \n",
       "4                 1              0       Full-time    Mid-Senior level   \n",
       "\n",
       "          required_education                             industry  \\\n",
       "0                Unspecified                   Financial Services   \n",
       "1  High School or equivalent                   Telecommunications   \n",
       "2                        NaN  Information Technology and Services   \n",
       "3                        NaN                   Building Materials   \n",
       "4          Bachelor's Degree                             Internet   \n",
       "\n",
       "           function  fraudulent  \n",
       "0  Customer Service           0  \n",
       "1  Customer Service           0  \n",
       "2               NaN           0  \n",
       "3             Sales           0  \n",
       "4         Marketing           0  "
      ]
     },
     "execution_count": 75,
     "metadata": {},
     "output_type": "execute_result"
    }
   ],
   "source": [
    "df.head()"
   ]
  },
  {
   "cell_type": "code",
   "execution_count": 76,
   "id": "373f0cdc",
   "metadata": {},
   "outputs": [
    {
     "name": "stdout",
     "output_type": "stream",
     "text": [
      "<class 'pandas.core.frame.DataFrame'>\n",
      "RangeIndex: 14304 entries, 0 to 14303\n",
      "Data columns (total 18 columns):\n",
      " #   Column               Non-Null Count  Dtype \n",
      "---  ------               --------------  ----- \n",
      " 0   job_id               14304 non-null  int64 \n",
      " 1   title                14304 non-null  object\n",
      " 2   location             14024 non-null  object\n",
      " 3   department           5029 non-null   object\n",
      " 4   salary_range         2283 non-null   object\n",
      " 5   company_profile      11632 non-null  object\n",
      " 6   description          14303 non-null  object\n",
      " 7   requirements         12172 non-null  object\n",
      " 8   benefits             8501 non-null   object\n",
      " 9   telecommuting        14304 non-null  int64 \n",
      " 10  has_company_logo     14304 non-null  int64 \n",
      " 11  has_questions        14304 non-null  int64 \n",
      " 12  employment_type      11547 non-null  object\n",
      " 13  required_experience  8629 non-null   object\n",
      " 14  required_education   7805 non-null   object\n",
      " 15  industry             10378 non-null  object\n",
      " 16  function             9135 non-null   object\n",
      " 17  fraudulent           14304 non-null  int64 \n",
      "dtypes: int64(5), object(13)\n",
      "memory usage: 2.0+ MB\n"
     ]
    }
   ],
   "source": [
    "df.info()"
   ]
  },
  {
   "cell_type": "code",
   "execution_count": 77,
   "id": "0270ec09",
   "metadata": {},
   "outputs": [],
   "source": [
    "new_df=df.drop(columns=['job_id', 'location','department','salary_range', 'telecommuting', 'has_company_logo', 'has_questions', 'employment_type', 'required_experience','required_education', 'industry', 'function'], axis=1)"
   ]
  },
  {
   "cell_type": "code",
   "execution_count": 78,
   "id": "6e3e97cd",
   "metadata": {},
   "outputs": [
    {
     "data": {
      "text/plain": [
       "(14304, 6)"
      ]
     },
     "execution_count": 78,
     "metadata": {},
     "output_type": "execute_result"
    }
   ],
   "source": [
    "new_df.shape"
   ]
  },
  {
   "cell_type": "code",
   "execution_count": 79,
   "id": "185e29a1",
   "metadata": {},
   "outputs": [
    {
     "data": {
      "text/html": [
       "<div>\n",
       "<style scoped>\n",
       "    .dataframe tbody tr th:only-of-type {\n",
       "        vertical-align: middle;\n",
       "    }\n",
       "\n",
       "    .dataframe tbody tr th {\n",
       "        vertical-align: top;\n",
       "    }\n",
       "\n",
       "    .dataframe thead th {\n",
       "        text-align: right;\n",
       "    }\n",
       "</style>\n",
       "<table border=\"1\" class=\"dataframe\">\n",
       "  <thead>\n",
       "    <tr style=\"text-align: right;\">\n",
       "      <th></th>\n",
       "      <th>title</th>\n",
       "      <th>company_profile</th>\n",
       "      <th>description</th>\n",
       "      <th>requirements</th>\n",
       "      <th>benefits</th>\n",
       "      <th>fraudulent</th>\n",
       "    </tr>\n",
       "  </thead>\n",
       "  <tbody>\n",
       "    <tr>\n",
       "      <th>0</th>\n",
       "      <td>Contact Center Representatives</td>\n",
       "      <td>Tidewater Finance Co. was established in 1992 ...</td>\n",
       "      <td>Tidewater Finance Company, located in Virginia...</td>\n",
       "      <td>The position requires the following qualificat...</td>\n",
       "      <td>Our company offers a competitive salary plus B...</td>\n",
       "      <td>0</td>\n",
       "    </tr>\n",
       "    <tr>\n",
       "      <th>1</th>\n",
       "      <td>Customer Service Associate</td>\n",
       "      <td>Novitex Enterprise Solutions, formerly Pitney ...</td>\n",
       "      <td>The Customer Service Associate will be based i...</td>\n",
       "      <td>QualificationsMinimum of 1 year customer servi...</td>\n",
       "      <td>NaN</td>\n",
       "      <td>0</td>\n",
       "    </tr>\n",
       "    <tr>\n",
       "      <th>2</th>\n",
       "      <td>Automated Test Analyst</td>\n",
       "      <td>SilverStripe CMS &amp;amp; Framework is an open so...</td>\n",
       "      <td>We are looking for a dedicated and passionate ...</td>\n",
       "      <td>NaN</td>\n",
       "      <td>NaN</td>\n",
       "      <td>0</td>\n",
       "    </tr>\n",
       "    <tr>\n",
       "      <th>3</th>\n",
       "      <td>Inside Sales Professional-Omaha</td>\n",
       "      <td>ABC Supply Co., Inc. is the nation’s largest w...</td>\n",
       "      <td>As a Sales Representative, you will provide as...</td>\n",
       "      <td>As a Sales Representative, you must have the a...</td>\n",
       "      <td>Your benefits package as a Sales Representativ...</td>\n",
       "      <td>0</td>\n",
       "    </tr>\n",
       "    <tr>\n",
       "      <th>4</th>\n",
       "      <td>Content Marketing/SEO Manager</td>\n",
       "      <td>MeUndies is a lifestyle brand that is transfor...</td>\n",
       "      <td>MeUndies is a lifestyle brand that is transfor...</td>\n",
       "      <td>REQUIREMENTS/QUALIFICATIONS/PERSONAL ATTRIBUTE...</td>\n",
       "      <td>WHY MEUNDIES?We're a fast-growing, VC-backed c...</td>\n",
       "      <td>0</td>\n",
       "    </tr>\n",
       "  </tbody>\n",
       "</table>\n",
       "</div>"
      ],
      "text/plain": [
       "                             title  \\\n",
       "0   Contact Center Representatives   \n",
       "1      Customer Service Associate    \n",
       "2           Automated Test Analyst   \n",
       "3  Inside Sales Professional-Omaha   \n",
       "4    Content Marketing/SEO Manager   \n",
       "\n",
       "                                     company_profile  \\\n",
       "0  Tidewater Finance Co. was established in 1992 ...   \n",
       "1  Novitex Enterprise Solutions, formerly Pitney ...   \n",
       "2  SilverStripe CMS &amp; Framework is an open so...   \n",
       "3  ABC Supply Co., Inc. is the nation’s largest w...   \n",
       "4  MeUndies is a lifestyle brand that is transfor...   \n",
       "\n",
       "                                         description  \\\n",
       "0  Tidewater Finance Company, located in Virginia...   \n",
       "1  The Customer Service Associate will be based i...   \n",
       "2  We are looking for a dedicated and passionate ...   \n",
       "3  As a Sales Representative, you will provide as...   \n",
       "4  MeUndies is a lifestyle brand that is transfor...   \n",
       "\n",
       "                                        requirements  \\\n",
       "0  The position requires the following qualificat...   \n",
       "1  QualificationsMinimum of 1 year customer servi...   \n",
       "2                                                NaN   \n",
       "3  As a Sales Representative, you must have the a...   \n",
       "4  REQUIREMENTS/QUALIFICATIONS/PERSONAL ATTRIBUTE...   \n",
       "\n",
       "                                            benefits  fraudulent  \n",
       "0  Our company offers a competitive salary plus B...           0  \n",
       "1                                                NaN           0  \n",
       "2                                                NaN           0  \n",
       "3  Your benefits package as a Sales Representativ...           0  \n",
       "4  WHY MEUNDIES?We're a fast-growing, VC-backed c...           0  "
      ]
     },
     "execution_count": 79,
     "metadata": {},
     "output_type": "execute_result"
    }
   ],
   "source": [
    "new_df.head()"
   ]
  },
  {
   "cell_type": "code",
   "execution_count": 80,
   "id": "577aca2f",
   "metadata": {},
   "outputs": [
    {
     "data": {
      "text/plain": [
       "title                 0\n",
       "company_profile    2672\n",
       "description           1\n",
       "requirements       2132\n",
       "benefits           5803\n",
       "fraudulent            0\n",
       "dtype: int64"
      ]
     },
     "execution_count": 80,
     "metadata": {},
     "output_type": "execute_result"
    }
   ],
   "source": [
    "new_df.isnull().sum()"
   ]
  },
  {
   "cell_type": "code",
   "execution_count": 81,
   "id": "346aa13f",
   "metadata": {},
   "outputs": [
    {
     "name": "stderr",
     "output_type": "stream",
     "text": [
      "C:\\Users\\perug\\AppData\\Local\\Temp\\ipykernel_29128\\1198365526.py:1: FutureWarning: A value is trying to be set on a copy of a DataFrame or Series through chained assignment using an inplace method.\n",
      "The behavior will change in pandas 3.0. This inplace method will never work because the intermediate object on which we are setting values always behaves as a copy.\n",
      "\n",
      "For example, when doing 'df[col].method(value, inplace=True)', try using 'df.method({col: value}, inplace=True)' or df[col] = df[col].method(value) instead, to perform the operation inplace on the original object.\n",
      "\n",
      "\n",
      "  new_df[\"company_profile\"].fillna(new_df[\"company_profile\"].mode()[0], inplace=True)\n",
      "C:\\Users\\perug\\AppData\\Local\\Temp\\ipykernel_29128\\1198365526.py:2: FutureWarning: A value is trying to be set on a copy of a DataFrame or Series through chained assignment using an inplace method.\n",
      "The behavior will change in pandas 3.0. This inplace method will never work because the intermediate object on which we are setting values always behaves as a copy.\n",
      "\n",
      "For example, when doing 'df[col].method(value, inplace=True)', try using 'df.method({col: value}, inplace=True)' or df[col] = df[col].method(value) instead, to perform the operation inplace on the original object.\n",
      "\n",
      "\n",
      "  new_df[\"description\"].fillna(new_df[\"description\"].mode()[0], inplace=True)\n",
      "C:\\Users\\perug\\AppData\\Local\\Temp\\ipykernel_29128\\1198365526.py:3: FutureWarning: A value is trying to be set on a copy of a DataFrame or Series through chained assignment using an inplace method.\n",
      "The behavior will change in pandas 3.0. This inplace method will never work because the intermediate object on which we are setting values always behaves as a copy.\n",
      "\n",
      "For example, when doing 'df[col].method(value, inplace=True)', try using 'df.method({col: value}, inplace=True)' or df[col] = df[col].method(value) instead, to perform the operation inplace on the original object.\n",
      "\n",
      "\n",
      "  new_df[\"requirements\"].fillna(new_df[\"requirements\"].mode()[0], inplace=True)\n",
      "C:\\Users\\perug\\AppData\\Local\\Temp\\ipykernel_29128\\1198365526.py:4: FutureWarning: A value is trying to be set on a copy of a DataFrame or Series through chained assignment using an inplace method.\n",
      "The behavior will change in pandas 3.0. This inplace method will never work because the intermediate object on which we are setting values always behaves as a copy.\n",
      "\n",
      "For example, when doing 'df[col].method(value, inplace=True)', try using 'df.method({col: value}, inplace=True)' or df[col] = df[col].method(value) instead, to perform the operation inplace on the original object.\n",
      "\n",
      "\n",
      "  new_df[\"benefits\"].fillna(new_df[\"benefits\"].mode()[0], inplace=True)\n"
     ]
    }
   ],
   "source": [
    "new_df[\"company_profile\"].fillna(new_df[\"company_profile\"].mode()[0], inplace=True)\n",
    "new_df[\"description\"].fillna(new_df[\"description\"].mode()[0], inplace=True)\n",
    "new_df[\"requirements\"].fillna(new_df[\"requirements\"].mode()[0], inplace=True)\n",
    "new_df[\"benefits\"].fillna(new_df[\"benefits\"].mode()[0], inplace=True)"
   ]
  },
  {
   "cell_type": "code",
   "execution_count": 82,
   "id": "e1529454",
   "metadata": {},
   "outputs": [
    {
     "data": {
      "text/plain": [
       "title              0\n",
       "company_profile    0\n",
       "description        0\n",
       "requirements       0\n",
       "benefits           0\n",
       "fraudulent         0\n",
       "dtype: int64"
      ]
     },
     "execution_count": 82,
     "metadata": {},
     "output_type": "execute_result"
    }
   ],
   "source": [
    "new_df.isnull().sum()"
   ]
  },
  {
   "cell_type": "code",
   "execution_count": 83,
   "id": "7602a967",
   "metadata": {},
   "outputs": [
    {
     "data": {
      "text/plain": [
       "fraudulent\n",
       "0    13611\n",
       "1      693\n",
       "Name: fraudulent, dtype: int64"
      ]
     },
     "execution_count": 83,
     "metadata": {},
     "output_type": "execute_result"
    }
   ],
   "source": [
    "new_df.groupby(\"fraudulent\")[\"fraudulent\"].count()"
   ]
  },
  {
   "cell_type": "code",
   "execution_count": 84,
   "id": "4bf993f1",
   "metadata": {},
   "outputs": [
    {
     "data": {
      "image/png": "[encoded data removed]",
      "text/plain": [
       "<Figure size 1000x500 with 1 Axes>"
      ]
     },
     "metadata": {},
     "output_type": "display_data"
    }
   ],
   "source": [
    "plt.figure(figsize = (10,5))\n",
    "sns.countplot(y = 'fraudulent', data = new_df)\n",
    "plt.show()"
   ]
  },
  {
   "cell_type": "code",
   "execution_count": 85,
   "id": "991e0391",
   "metadata": {},
   "outputs": [
    {
     "data": {
      "text/plain": [
       "fraudulent\n",
       "0    0.951552\n",
       "1    0.048448\n",
       "Name: proportion, dtype: float64"
      ]
     },
     "execution_count": 85,
     "metadata": {},
     "output_type": "execute_result"
    }
   ],
   "source": [
    "new_df[\"fraudulent\"].value_counts(normalize=True)"
   ]
  },
  {
   "cell_type": "code",
   "execution_count": 86,
   "id": "a9e3702c",
   "metadata": {},
   "outputs": [],
   "source": [
    "fraudulent_rows = new_df[new_df['fraudulent'] == 0]\n",
    "rows_to_drop = fraudulent_rows.sample(n=12940, random_state=20)\n",
    "df_reduced = new_df.drop(rows_to_drop.index)"
   ]
  },
  {
   "cell_type": "code",
   "execution_count": 87,
   "id": "8ca07499",
   "metadata": {},
   "outputs": [
    {
     "data": {
      "text/plain": [
       "(1364, 6)"
      ]
     },
     "execution_count": 87,
     "metadata": {},
     "output_type": "execute_result"
    }
   ],
   "source": [
    "df_reduced.shape"
   ]
  },
  {
   "cell_type": "code",
   "execution_count": 88,
   "id": "b7ca5e09",
   "metadata": {},
   "outputs": [
    {
     "data": {
      "text/plain": [
       "fraudulent\n",
       "1    0.508065\n",
       "0    0.491935\n",
       "Name: proportion, dtype: float64"
      ]
     },
     "execution_count": 88,
     "metadata": {},
     "output_type": "execute_result"
    }
   ],
   "source": [
    "df_reduced[\"fraudulent\"].value_counts(normalize=True)"
   ]
  },
  {
   "cell_type": "code",
   "execution_count": 89,
   "id": "1f06bc0e",
   "metadata": {},
   "outputs": [
    {
     "data": {
      "text/html": [
       "<div>\n",
       "<style scoped>\n",
       "    .dataframe tbody tr th:only-of-type {\n",
       "        vertical-align: middle;\n",
       "    }\n",
       "\n",
       "    .dataframe tbody tr th {\n",
       "        vertical-align: top;\n",
       "    }\n",
       "\n",
       "    .dataframe thead th {\n",
       "        text-align: right;\n",
       "    }\n",
       "</style>\n",
       "<table border=\"1\" class=\"dataframe\">\n",
       "  <thead>\n",
       "    <tr style=\"text-align: right;\">\n",
       "      <th></th>\n",
       "      <th>title</th>\n",
       "      <th>company_profile</th>\n",
       "      <th>description</th>\n",
       "      <th>requirements</th>\n",
       "      <th>benefits</th>\n",
       "      <th>fraudulent</th>\n",
       "    </tr>\n",
       "  </thead>\n",
       "  <tbody>\n",
       "    <tr>\n",
       "      <th>2</th>\n",
       "      <td>Automated Test Analyst</td>\n",
       "      <td>SilverStripe CMS &amp;amp; Framework is an open so...</td>\n",
       "      <td>We are looking for a dedicated and passionate ...</td>\n",
       "      <td>University degree required. TEFL / TESOL / CEL...</td>\n",
       "      <td>See job description</td>\n",
       "      <td>0</td>\n",
       "    </tr>\n",
       "    <tr>\n",
       "      <th>26</th>\n",
       "      <td>Customer Service Rep</td>\n",
       "      <td>We help teachers get safe &amp;amp; secure jobs ab...</td>\n",
       "      <td>We are seeking a Customer Service Representati...</td>\n",
       "      <td>University degree required. TEFL / TESOL / CEL...</td>\n",
       "      <td>See job description</td>\n",
       "      <td>1</td>\n",
       "    </tr>\n",
       "    <tr>\n",
       "      <th>39</th>\n",
       "      <td>Agency Sales Managers $150-$175,000/yr</td>\n",
       "      <td>We have aggressive growth plans in place for t...</td>\n",
       "      <td>We provide No Credit Check Financing to custom...</td>\n",
       "      <td>Experience and Skills  Required- Minimum of 3 ...</td>\n",
       "      <td>We Provide- Complete online training and offic...</td>\n",
       "      <td>1</td>\n",
       "    </tr>\n",
       "    <tr>\n",
       "      <th>45</th>\n",
       "      <td>Regional Sales Director - West</td>\n",
       "      <td>WebLinc is the e-commerce platform and service...</td>\n",
       "      <td>WebLinc is looking for a Regional Sales Direct...</td>\n",
       "      <td>Minimum of 10 years experience in sales, at le...</td>\n",
       "      <td>Health &amp;amp; WellnessMedical planPrescription ...</td>\n",
       "      <td>0</td>\n",
       "    </tr>\n",
       "    <tr>\n",
       "      <th>53</th>\n",
       "      <td>Sound Designer</td>\n",
       "      <td>Our team is made of designers, physics wizards...</td>\n",
       "      <td>Conjure sonic worlds.We’re seeking a sound des...</td>\n",
       "      <td>You have:A deep knowledge of sound design theo...</td>\n",
       "      <td>Tinybop offers competitive salaries, comprehen...</td>\n",
       "      <td>0</td>\n",
       "    </tr>\n",
       "  </tbody>\n",
       "</table>\n",
       "</div>"
      ],
      "text/plain": [
       "                                     title  \\\n",
       "2                   Automated Test Analyst   \n",
       "26                    Customer Service Rep   \n",
       "39  Agency Sales Managers $150-$175,000/yr   \n",
       "45          Regional Sales Director - West   \n",
       "53                         Sound Designer    \n",
       "\n",
       "                                      company_profile  \\\n",
       "2   SilverStripe CMS &amp; Framework is an open so...   \n",
       "26  We help teachers get safe &amp; secure jobs ab...   \n",
       "39  We have aggressive growth plans in place for t...   \n",
       "45  WebLinc is the e-commerce platform and service...   \n",
       "53  Our team is made of designers, physics wizards...   \n",
       "\n",
       "                                          description  \\\n",
       "2   We are looking for a dedicated and passionate ...   \n",
       "26  We are seeking a Customer Service Representati...   \n",
       "39  We provide No Credit Check Financing to custom...   \n",
       "45  WebLinc is looking for a Regional Sales Direct...   \n",
       "53  Conjure sonic worlds.We’re seeking a sound des...   \n",
       "\n",
       "                                         requirements  \\\n",
       "2   University degree required. TEFL / TESOL / CEL...   \n",
       "26  University degree required. TEFL / TESOL / CEL...   \n",
       "39  Experience and Skills  Required- Minimum of 3 ...   \n",
       "45  Minimum of 10 years experience in sales, at le...   \n",
       "53  You have:A deep knowledge of sound design theo...   \n",
       "\n",
       "                                             benefits  fraudulent  \n",
       "2                                 See job description           0  \n",
       "26                                See job description           1  \n",
       "39  We Provide- Complete online training and offic...           1  \n",
       "45  Health &amp; WellnessMedical planPrescription ...           0  \n",
       "53  Tinybop offers competitive salaries, comprehen...           0  "
      ]
     },
     "execution_count": 89,
     "metadata": {},
     "output_type": "execute_result"
    }
   ],
   "source": [
    "df_reduced.head()"
   ]
  },
  {
   "cell_type": "code",
   "execution_count": 90,
   "id": "bf6699be",
   "metadata": {},
   "outputs": [
    {
     "data": {
      "text/plain": [
       "title              0\n",
       "company_profile    0\n",
       "description        0\n",
       "requirements       0\n",
       "benefits           0\n",
       "fraudulent         0\n",
       "dtype: int64"
      ]
     },
     "execution_count": 90,
     "metadata": {},
     "output_type": "execute_result"
    }
   ],
   "source": [
    "df_reduced.isnull().sum()"
   ]
  },
  {
   "cell_type": "code",
   "execution_count": 91,
   "id": "326fb972",
   "metadata": {},
   "outputs": [],
   "source": [
    "df_reduced['merged_data'] = df_reduced[\"title\"]+\" \"+df_reduced[\"company_profile\"]+\" \"+df_reduced['description']+\" \"+df_reduced[\"requirements\"]+df_reduced[\"benefits\"]"
   ]
  },
  {
   "cell_type": "code",
   "execution_count": 92,
   "id": "79c65c4b",
   "metadata": {},
   "outputs": [
    {
     "name": "stdout",
     "output_type": "stream",
     "text": [
      "<class 'pandas.core.frame.DataFrame'>\n",
      "Index: 1364 entries, 2 to 14298\n",
      "Data columns (total 7 columns):\n",
      " #   Column           Non-Null Count  Dtype \n",
      "---  ------           --------------  ----- \n",
      " 0   title            1364 non-null   object\n",
      " 1   company_profile  1364 non-null   object\n",
      " 2   description      1364 non-null   object\n",
      " 3   requirements     1364 non-null   object\n",
      " 4   benefits         1364 non-null   object\n",
      " 5   fraudulent       1364 non-null   int64 \n",
      " 6   merged_data      1364 non-null   object\n",
      "dtypes: int64(1), object(6)\n",
      "memory usage: 85.2+ KB\n"
     ]
    }
   ],
   "source": [
    "df_reduced.info()"
   ]
  },
  {
   "cell_type": "code",
   "execution_count": 93,
   "id": "be977680",
   "metadata": {},
   "outputs": [
    {
     "name": "stdout",
     "output_type": "stream",
     "text": [
      "2        Automated Test Analyst SilverStripe CMS &amp; ...\n",
      "26       Customer Service Rep We help teachers get safe...\n",
      "39       Agency Sales Managers $150-$175,000/yr We have...\n",
      "45       Regional Sales Director - West WebLinc is the ...\n",
      "53       Sound Designer  Our team is made of designers,...\n",
      "                               ...                        \n",
      "14261    CASH Pay Jobs (Part Time Staff Wanted) We help...\n",
      "14269    Office Administrator Replise was started in 20...\n",
      "14276    Electrical Controls Engineer We Provide Full T...\n",
      "14279    Accounts Receivable Specialist Aptitude Staffi...\n",
      "14298    Strategic Account Director - New York We build...\n",
      "Name: merged_data, Length: 1364, dtype: object\n"
     ]
    }
   ],
   "source": [
    "print(df_reduced[\"merged_data\"])"
   ]
  },
  {
   "cell_type": "code",
   "execution_count": 94,
   "id": "2009ed8a",
   "metadata": {},
   "outputs": [
    {
     "name": "stdout",
     "output_type": "stream",
     "text": [
      "{'don', 'our', \"hasn't\", 'with', 'isn', 'herself', 'until', 'do', 'we', 'himself', 'o', 'your', \"won't\", 'each', 'from', \"i'm\", 's', 'such', \"mightn't\", 'him', 'before', 'shan', 'during', 'doing', 'wasn', \"they've\", 'as', 'on', \"you'd\", 'aren', 'won', 'is', \"should've\", 'couldn', 'than', 'been', 'off', 'and', 'being', 'at', 'can', \"they'll\", 'did', \"you're\", 'was', 'd', 'own', 'above', \"wouldn't\", 'most', \"weren't\", \"doesn't\", 'he', 'by', 'other', 'too', 'further', \"hadn't\", 'have', 'why', 'up', 'be', \"couldn't\", 'to', \"they're\", 'under', \"aren't\", 'ma', 'same', 'will', 'my', 'needn', 've', 'here', 'mightn', \"i've\", 'only', \"they'd\", 'myself', 'again', 'against', 'more', \"mustn't\", 'mustn', 'm', 'hadn', 'wouldn', \"he'd\", 'so', 'or', 'where', 'what', 'should', 'both', 'between', 'this', 'yourself', \"isn't\", 'haven', 'hers', 'having', \"it'd\", 'a', 't', 'were', 'yours', 'just', 'few', \"you've\", 'out', 'i', 'itself', 'after', \"i'll\", 'these', \"she's\", 'those', 'who', 'y', 'because', 'they', 'themselves', 'then', \"we're\", \"we've\", 'll', 'weren', 'her', 'it', 'ain', \"she'd\", \"shan't\", 'that', \"we'd\", 'any', 'very', \"it's\", 'them', 'does', 'me', 'she', 'an', 'shouldn', 'its', 'if', 'nor', 'below', 'theirs', 'ours', \"wasn't\", 'their', 'yourselves', \"it'll\", 'but', 'how', 'some', 'for', 'had', 'about', \"he's\", 'in', 'the', 'through', \"i'd\", 're', 'am', \"don't\", 'which', 'you', 'doesn', 'whom', 'his', 'down', \"didn't\", 'didn', 'there', \"he'll\", 'while', 'ourselves', 'into', 'of', 'now', 'when', 'once', 'over', \"needn't\", \"she'll\", \"that'll\", 'has', \"we'll\", 'no', 'not', \"haven't\", \"shouldn't\", \"you'll\", 'hasn', 'are', 'all'}\n"
     ]
    },
    {
     "name": "stderr",
     "output_type": "stream",
     "text": [
      "[nltk_data] Downloading package stopwords to\n",
      "[nltk_data]     C:\\Users\\perug\\AppData\\Roaming\\nltk_data...\n",
      "[nltk_data]   Package stopwords is already up-to-date!\n"
     ]
    }
   ],
   "source": [
    "nltk.download('stopwords')\n",
    "stop_words = set(stopwords.words('english'))\n",
    "print(stop_words)"
   ]
  },
  {
   "cell_type": "code",
   "execution_count": 95,
   "id": "4c1d1533",
   "metadata": {},
   "outputs": [],
   "source": [
    "port_stem = PorterStemmer()"
   ]
  },
  {
   "cell_type": "code",
   "execution_count": 96,
   "id": "c576fb29",
   "metadata": {},
   "outputs": [],
   "source": [
    "def preprocess_text(text):\n",
    "    return re.sub(r'[^a-zA-Z]', \" \", text).lower()"
   ]
  },
  {
   "cell_type": "code",
   "execution_count": 97,
   "id": "f4c25694",
   "metadata": {},
   "outputs": [],
   "source": [
    "def stemming(content):\n",
    "        words = content.split()  # Tokenize words\n",
    "        return \" \".join([port_stem.stem(word) for word in words if word not in stop_words])"
   ]
  },
  {
   "cell_type": "code",
   "execution_count": 98,
   "id": "23038ad1",
   "metadata": {},
   "outputs": [],
   "source": [
    "tqdm.pandas()"
   ]
  },
  {
   "cell_type": "code",
   "execution_count": 129,
   "id": "fe0221d1",
   "metadata": {},
   "outputs": [
    {
     "name": "stderr",
     "output_type": "stream",
     "text": [
      "100%|██████████| 1364/1364 [00:04<00:00, 324.78it/s]\n"
     ]
    }
   ],
   "source": [
    "df_reduced['merged_data'] = df_reduced['merged_data'].progress_apply(lambda x:stemming(preprocess_text(x)))"
   ]
  },
  {
   "cell_type": "code",
   "execution_count": 130,
   "id": "30ee5685",
   "metadata": {},
   "outputs": [],
   "source": [
    "X = df_reduced['merged_data'].values\n",
    "Y = df_reduced['fraudulent'].values"
   ]
  },
  {
   "cell_type": "code",
   "execution_count": 131,
   "id": "0f6b54ac",
   "metadata": {},
   "outputs": [],
   "source": [
    "# X_train, X_test, Y_train, Y_test = train_test_split(X,Y, test_size=0.2, stratify=Y, random_state=4)"
   ]
  },
  {
   "cell_type": "code",
   "execution_count": 134,
   "id": "a759d20c",
   "metadata": {},
   "outputs": [],
   "source": [
    "vectorizer = TfidfVectorizer()\n",
    "X_train_transformed = vectorizer.fit_transform(X)\n",
    "# X_test_transformed = vectorizer.transform(X_test)"
   ]
  },
  {
   "cell_type": "code",
   "execution_count": 135,
   "id": "0b8d8667",
   "metadata": {},
   "outputs": [
    {
     "data": {
      "text/html": [
       "<style>#sk-container-id-9 {\n",
       "  /* Definition of color scheme common for light and dark mode */\n",
       "  --sklearn-color-text: black;\n",
       "  --sklearn-color-line: gray;\n",
       "  /* Definition of color scheme for unfitted estimators */\n",
       "  --sklearn-color-unfitted-level-0: #fff5e6;\n",
       "  --sklearn-color-unfitted-level-1: #f6e4d2;\n",
       "  --sklearn-color-unfitted-level-2: #ffe0b3;\n",
       "  --sklearn-color-unfitted-level-3: chocolate;\n",
       "  /* Definition of color scheme for fitted estimators */\n",
       "  --sklearn-color-fitted-level-0: #f0f8ff;\n",
       "  --sklearn-color-fitted-level-1: #d4ebff;\n",
       "  --sklearn-color-fitted-level-2: #b3dbfd;\n",
       "  --sklearn-color-fitted-level-3: cornflowerblue;\n",
       "\n",
       "  /* Specific color for light theme */\n",
       "  --sklearn-color-text-on-default-background: var(--sg-text-color, var(--theme-code-foreground, var(--jp-content-font-color1, black)));\n",
       "  --sklearn-color-background: var(--sg-background-color, var(--theme-background, var(--jp-layout-color0, white)));\n",
       "  --sklearn-color-border-box: var(--sg-text-color, var(--theme-code-foreground, var(--jp-content-font-color1, black)));\n",
       "  --sklearn-color-icon: #696969;\n",
       "\n",
       "  @media (prefers-color-scheme: dark) {\n",
       "    /* Redefinition of color scheme for dark theme */\n",
       "    --sklearn-color-text-on-default-background: var(--sg-text-color, var(--theme-code-foreground, var(--jp-content-font-color1, white)));\n",
       "    --sklearn-color-background: var(--sg-background-color, var(--theme-background, var(--jp-layout-color0, #111)));\n",
       "    --sklearn-color-border-box: var(--sg-text-color, var(--theme-code-foreground, var(--jp-content-font-color1, white)));\n",
       "    --sklearn-color-icon: #878787;\n",
       "  }\n",
       "}\n",
       "\n",
       "#sk-container-id-9 {\n",
       "  color: var(--sklearn-color-text);\n",
       "}\n",
       "\n",
       "#sk-container-id-9 pre {\n",
       "  padding: 0;\n",
       "}\n",
       "\n",
       "#sk-container-id-9 input.sk-hidden--visually {\n",
       "  border: 0;\n",
       "  clip: rect(1px 1px 1px 1px);\n",
       "  clip: rect(1px, 1px, 1px, 1px);\n",
       "  height: 1px;\n",
       "  margin: -1px;\n",
       "  overflow: hidden;\n",
       "  padding: 0;\n",
       "  position: absolute;\n",
       "  width: 1px;\n",
       "}\n",
       "\n",
       "#sk-container-id-9 div.sk-dashed-wrapped {\n",
       "  border: 1px dashed var(--sklearn-color-line);\n",
       "  margin: 0 0.4em 0.5em 0.4em;\n",
       "  box-sizing: border-box;\n",
       "  padding-bottom: 0.4em;\n",
       "  background-color: var(--sklearn-color-background);\n",
       "}\n",
       "\n",
       "#sk-container-id-9 div.sk-container {\n",
       "  /* jupyter's `normalize.less` sets `[hidden] { display: none; }`\n",
       "     but bootstrap.min.css set `[hidden] { display: none !important; }`\n",
       "     so we also need the `!important` here to be able to override the\n",
       "     default hidden behavior on the sphinx rendered scikit-learn.org.\n",
       "     See: https://github.com/scikit-learn/scikit-learn/issues/21755 */\n",
       "  display: inline-block !important;\n",
       "  position: relative;\n",
       "}\n",
       "\n",
       "#sk-container-id-9 div.sk-text-repr-fallback {\n",
       "  display: none;\n",
       "}\n",
       "\n",
       "div.sk-parallel-item,\n",
       "div.sk-serial,\n",
       "div.sk-item {\n",
       "  /* draw centered vertical line to link estimators */\n",
       "  background-image: linear-gradient(var(--sklearn-color-text-on-default-background), var(--sklearn-color-text-on-default-background));\n",
       "  background-size: 2px 100%;\n",
       "  background-repeat: no-repeat;\n",
       "  background-position: center center;\n",
       "}\n",
       "\n",
       "/* Parallel-specific style estimator block */\n",
       "\n",
       "#sk-container-id-9 div.sk-parallel-item::after {\n",
       "  content: \"\";\n",
       "  width: 100%;\n",
       "  border-bottom: 2px solid var(--sklearn-color-text-on-default-background);\n",
       "  flex-grow: 1;\n",
       "}\n",
       "\n",
       "#sk-container-id-9 div.sk-parallel {\n",
       "  display: flex;\n",
       "  align-items: stretch;\n",
       "  justify-content: center;\n",
       "  background-color: var(--sklearn-color-background);\n",
       "  position: relative;\n",
       "}\n",
       "\n",
       "#sk-container-id-9 div.sk-parallel-item {\n",
       "  display: flex;\n",
       "  flex-direction: column;\n",
       "}\n",
       "\n",
       "#sk-container-id-9 div.sk-parallel-item:first-child::after {\n",
       "  align-self: flex-end;\n",
       "  width: 50%;\n",
       "}\n",
       "\n",
       "#sk-container-id-9 div.sk-parallel-item:last-child::after {\n",
       "  align-self: flex-start;\n",
       "  width: 50%;\n",
       "}\n",
       "\n",
       "#sk-container-id-9 div.sk-parallel-item:only-child::after {\n",
       "  width: 0;\n",
       "}\n",
       "\n",
       "/* Serial-specific style estimator block */\n",
       "\n",
       "#sk-container-id-9 div.sk-serial {\n",
       "  display: flex;\n",
       "  flex-direction: column;\n",
       "  align-items: center;\n",
       "  background-color: var(--sklearn-color-background);\n",
       "  padding-right: 1em;\n",
       "  padding-left: 1em;\n",
       "}\n",
       "\n",
       "\n",
       "/* Toggleable style: style used for estimator/Pipeline/ColumnTransformer box that is\n",
       "clickable and can be expanded/collapsed.\n",
       "- Pipeline and ColumnTransformer use this feature and define the default style\n",
       "- Estimators will overwrite some part of the style using the `sk-estimator` class\n",
       "*/\n",
       "\n",
       "/* Pipeline and ColumnTransformer style (default) */\n",
       "\n",
       "#sk-container-id-9 div.sk-toggleable {\n",
       "  /* Default theme specific background. It is overwritten whether we have a\n",
       "  specific estimator or a Pipeline/ColumnTransformer */\n",
       "  background-color: var(--sklearn-color-background);\n",
       "}\n",
       "\n",
       "/* Toggleable label */\n",
       "#sk-container-id-9 label.sk-toggleable__label {\n",
       "  cursor: pointer;\n",
       "  display: block;\n",
       "  width: 100%;\n",
       "  margin-bottom: 0;\n",
       "  padding: 0.5em;\n",
       "  box-sizing: border-box;\n",
       "  text-align: center;\n",
       "}\n",
       "\n",
       "#sk-container-id-9 label.sk-toggleable__label-arrow:before {\n",
       "  /* Arrow on the left of the label */\n",
       "  content: \"▸\";\n",
       "  float: left;\n",
       "  margin-right: 0.25em;\n",
       "  color: var(--sklearn-color-icon);\n",
       "}\n",
       "\n",
       "#sk-container-id-9 label.sk-toggleable__label-arrow:hover:before {\n",
       "  color: var(--sklearn-color-text);\n",
       "}\n",
       "\n",
       "/* Toggleable content - dropdown */\n",
       "\n",
       "#sk-container-id-9 div.sk-toggleable__content {\n",
       "  max-height: 0;\n",
       "  max-width: 0;\n",
       "  overflow: hidden;\n",
       "  text-align: left;\n",
       "  /* unfitted */\n",
       "  background-color: var(--sklearn-color-unfitted-level-0);\n",
       "}\n",
       "\n",
       "#sk-container-id-9 div.sk-toggleable__content.fitted {\n",
       "  /* fitted */\n",
       "  background-color: var(--sklearn-color-fitted-level-0);\n",
       "}\n",
       "\n",
       "#sk-container-id-9 div.sk-toggleable__content pre {\n",
       "  margin: 0.2em;\n",
       "  border-radius: 0.25em;\n",
       "  color: var(--sklearn-color-text);\n",
       "  /* unfitted */\n",
       "  background-color: var(--sklearn-color-unfitted-level-0);\n",
       "}\n",
       "\n",
       "#sk-container-id-9 div.sk-toggleable__content.fitted pre {\n",
       "  /* unfitted */\n",
       "  background-color: var(--sklearn-color-fitted-level-0);\n",
       "}\n",
       "\n",
       "#sk-container-id-9 input.sk-toggleable__control:checked~div.sk-toggleable__content {\n",
       "  /* Expand drop-down */\n",
       "  max-height: 200px;\n",
       "  max-width: 100%;\n",
       "  overflow: auto;\n",
       "}\n",
       "\n",
       "#sk-container-id-9 input.sk-toggleable__control:checked~label.sk-toggleable__label-arrow:before {\n",
       "  content: \"▾\";\n",
       "}\n",
       "\n",
       "/* Pipeline/ColumnTransformer-specific style */\n",
       "\n",
       "#sk-container-id-9 div.sk-label input.sk-toggleable__control:checked~label.sk-toggleable__label {\n",
       "  color: var(--sklearn-color-text);\n",
       "  background-color: var(--sklearn-color-unfitted-level-2);\n",
       "}\n",
       "\n",
       "#sk-container-id-9 div.sk-label.fitted input.sk-toggleable__control:checked~label.sk-toggleable__label {\n",
       "  background-color: var(--sklearn-color-fitted-level-2);\n",
       "}\n",
       "\n",
       "/* Estimator-specific style */\n",
       "\n",
       "/* Colorize estimator box */\n",
       "#sk-container-id-9 div.sk-estimator input.sk-toggleable__control:checked~label.sk-toggleable__label {\n",
       "  /* unfitted */\n",
       "  background-color: var(--sklearn-color-unfitted-level-2);\n",
       "}\n",
       "\n",
       "#sk-container-id-9 div.sk-estimator.fitted input.sk-toggleable__control:checked~label.sk-toggleable__label {\n",
       "  /* fitted */\n",
       "  background-color: var(--sklearn-color-fitted-level-2);\n",
       "}\n",
       "\n",
       "#sk-container-id-9 div.sk-label label.sk-toggleable__label,\n",
       "#sk-container-id-9 div.sk-label label {\n",
       "  /* The background is the default theme color */\n",
       "  color: var(--sklearn-color-text-on-default-background);\n",
       "}\n",
       "\n",
       "/* On hover, darken the color of the background */\n",
       "#sk-container-id-9 div.sk-label:hover label.sk-toggleable__label {\n",
       "  color: var(--sklearn-color-text);\n",
       "  background-color: var(--sklearn-color-unfitted-level-2);\n",
       "}\n",
       "\n",
       "/* Label box, darken color on hover, fitted */\n",
       "#sk-container-id-9 div.sk-label.fitted:hover label.sk-toggleable__label.fitted {\n",
       "  color: var(--sklearn-color-text);\n",
       "  background-color: var(--sklearn-color-fitted-level-2);\n",
       "}\n",
       "\n",
       "/* Estimator label */\n",
       "\n",
       "#sk-container-id-9 div.sk-label label {\n",
       "  font-family: monospace;\n",
       "  font-weight: bold;\n",
       "  display: inline-block;\n",
       "  line-height: 1.2em;\n",
       "}\n",
       "\n",
       "#sk-container-id-9 div.sk-label-container {\n",
       "  text-align: center;\n",
       "}\n",
       "\n",
       "/* Estimator-specific */\n",
       "#sk-container-id-9 div.sk-estimator {\n",
       "  font-family: monospace;\n",
       "  border: 1px dotted var(--sklearn-color-border-box);\n",
       "  border-radius: 0.25em;\n",
       "  box-sizing: border-box;\n",
       "  margin-bottom: 0.5em;\n",
       "  /* unfitted */\n",
       "  background-color: var(--sklearn-color-unfitted-level-0);\n",
       "}\n",
       "\n",
       "#sk-container-id-9 div.sk-estimator.fitted {\n",
       "  /* fitted */\n",
       "  background-color: var(--sklearn-color-fitted-level-0);\n",
       "}\n",
       "\n",
       "/* on hover */\n",
       "#sk-container-id-9 div.sk-estimator:hover {\n",
       "  /* unfitted */\n",
       "  background-color: var(--sklearn-color-unfitted-level-2);\n",
       "}\n",
       "\n",
       "#sk-container-id-9 div.sk-estimator.fitted:hover {\n",
       "  /* fitted */\n",
       "  background-color: var(--sklearn-color-fitted-level-2);\n",
       "}\n",
       "\n",
       "/* Specification for estimator info (e.g. \"i\" and \"?\") */\n",
       "\n",
       "/* Common style for \"i\" and \"?\" */\n",
       "\n",
       ".sk-estimator-doc-link,\n",
       "a:link.sk-estimator-doc-link,\n",
       "a:visited.sk-estimator-doc-link {\n",
       "  float: right;\n",
       "  font-size: smaller;\n",
       "  line-height: 1em;\n",
       "  font-family: monospace;\n",
       "  background-color: var(--sklearn-color-background);\n",
       "  border-radius: 1em;\n",
       "  height: 1em;\n",
       "  width: 1em;\n",
       "  text-decoration: none !important;\n",
       "  margin-left: 1ex;\n",
       "  /* unfitted */\n",
       "  border: var(--sklearn-color-unfitted-level-1) 1pt solid;\n",
       "  color: var(--sklearn-color-unfitted-level-1);\n",
       "}\n",
       "\n",
       ".sk-estimator-doc-link.fitted,\n",
       "a:link.sk-estimator-doc-link.fitted,\n",
       "a:visited.sk-estimator-doc-link.fitted {\n",
       "  /* fitted */\n",
       "  border: var(--sklearn-color-fitted-level-1) 1pt solid;\n",
       "  color: var(--sklearn-color-fitted-level-1);\n",
       "}\n",
       "\n",
       "/* On hover */\n",
       "div.sk-estimator:hover .sk-estimator-doc-link:hover,\n",
       ".sk-estimator-doc-link:hover,\n",
       "div.sk-label-container:hover .sk-estimator-doc-link:hover,\n",
       ".sk-estimator-doc-link:hover {\n",
       "  /* unfitted */\n",
       "  background-color: var(--sklearn-color-unfitted-level-3);\n",
       "  color: var(--sklearn-color-background);\n",
       "  text-decoration: none;\n",
       "}\n",
       "\n",
       "div.sk-estimator.fitted:hover .sk-estimator-doc-link.fitted:hover,\n",
       ".sk-estimator-doc-link.fitted:hover,\n",
       "div.sk-label-container:hover .sk-estimator-doc-link.fitted:hover,\n",
       ".sk-estimator-doc-link.fitted:hover {\n",
       "  /* fitted */\n",
       "  background-color: var(--sklearn-color-fitted-level-3);\n",
       "  color: var(--sklearn-color-background);\n",
       "  text-decoration: none;\n",
       "}\n",
       "\n",
       "/* Span, style for the box shown on hovering the info icon */\n",
       ".sk-estimator-doc-link span {\n",
       "  display: none;\n",
       "  z-index: 9999;\n",
       "  position: relative;\n",
       "  font-weight: normal;\n",
       "  right: .2ex;\n",
       "  padding: .5ex;\n",
       "  margin: .5ex;\n",
       "  width: min-content;\n",
       "  min-width: 20ex;\n",
       "  max-width: 50ex;\n",
       "  color: var(--sklearn-color-text);\n",
       "  box-shadow: 2pt 2pt 4pt #999;\n",
       "  /* unfitted */\n",
       "  background: var(--sklearn-color-unfitted-level-0);\n",
       "  border: .5pt solid var(--sklearn-color-unfitted-level-3);\n",
       "}\n",
       "\n",
       ".sk-estimator-doc-link.fitted span {\n",
       "  /* fitted */\n",
       "  background: var(--sklearn-color-fitted-level-0);\n",
       "  border: var(--sklearn-color-fitted-level-3);\n",
       "}\n",
       "\n",
       ".sk-estimator-doc-link:hover span {\n",
       "  display: block;\n",
       "}\n",
       "\n",
       "/* \"?\"-specific style due to the `<a>` HTML tag */\n",
       "\n",
       "#sk-container-id-9 a.estimator_doc_link {\n",
       "  float: right;\n",
       "  font-size: 1rem;\n",
       "  line-height: 1em;\n",
       "  font-family: monospace;\n",
       "  background-color: var(--sklearn-color-background);\n",
       "  border-radius: 1rem;\n",
       "  height: 1rem;\n",
       "  width: 1rem;\n",
       "  text-decoration: none;\n",
       "  /* unfitted */\n",
       "  color: var(--sklearn-color-unfitted-level-1);\n",
       "  border: var(--sklearn-color-unfitted-level-1) 1pt solid;\n",
       "}\n",
       "\n",
       "#sk-container-id-9 a.estimator_doc_link.fitted {\n",
       "  /* fitted */\n",
       "  border: var(--sklearn-color-fitted-level-1) 1pt solid;\n",
       "  color: var(--sklearn-color-fitted-level-1);\n",
       "}\n",
       "\n",
       "/* On hover */\n",
       "#sk-container-id-9 a.estimator_doc_link:hover {\n",
       "  /* unfitted */\n",
       "  background-color: var(--sklearn-color-unfitted-level-3);\n",
       "  color: var(--sklearn-color-background);\n",
       "  text-decoration: none;\n",
       "}\n",
       "\n",
       "#sk-container-id-9 a.estimator_doc_link.fitted:hover {\n",
       "  /* fitted */\n",
       "  background-color: var(--sklearn-color-fitted-level-3);\n",
       "}\n",
       "</style><div id=\"sk-container-id-9\" class=\"sk-top-container\"><div class=\"sk-text-repr-fallback\"><pre>LogisticRegression()</pre><b>In a Jupyter environment, please rerun this cell to show the HTML representation or trust the notebook. <br />On GitHub, the HTML representation is unable to render, please try loading this page with nbviewer.org.</b></div><div class=\"sk-container\" hidden><div class=\"sk-item\"><div class=\"sk-estimator fitted sk-toggleable\"><input class=\"sk-toggleable__control sk-hidden--visually\" id=\"sk-estimator-id-9\" type=\"checkbox\" checked><label for=\"sk-estimator-id-9\" class=\"sk-toggleable__label fitted sk-toggleable__label-arrow fitted\">&nbsp;&nbsp;LogisticRegression<a class=\"sk-estimator-doc-link fitted\" rel=\"noreferrer\" target=\"_blank\" href=\"https://scikit-learn.org/1.5/modules/generated/sklearn.linear_model.LogisticRegression.html\">?<span>Documentation for LogisticRegression</span></a><span class=\"sk-estimator-doc-link fitted\">i<span>Fitted</span></span></label><div class=\"sk-toggleable__content fitted\"><pre>LogisticRegression()</pre></div> </div></div></div></div>"
      ],
      "text/plain": [
       "LogisticRegression()"
      ]
     },
     "execution_count": 135,
     "metadata": {},
     "output_type": "execute_result"
    }
   ],
   "source": [
    "model = LogisticRegression()\n",
    "model.fit(X_train_transformed, Y)"
   ]
  },
  {
   "cell_type": "code",
   "execution_count": null,
   "id": "411681a7",
   "metadata": {},
   "outputs": [],
   "source": [
    "# X_train_prediction = model.predict(X_train_transformed)\n",
    "# training_data_accuracy = accuracy_score(X_train_prediction, Y_train)\n",
    "# print(\"Training Accuracy = \", training_data_accuracy)"
   ]
  },
  {
   "cell_type": "code",
   "execution_count": null,
   "id": "271fa8ac",
   "metadata": {},
   "outputs": [],
   "source": [
    "# X_test_prediction = model.predict(X_test_transformed)\n",
    "# test_data_accuracy = accuracy_score(X_test_prediction, Y_test)\n",
    "# print(\"Test accuracy = \", test_data_accuracy)"
   ]
  },
  {
   "cell_type": "code",
   "execution_count": null,
   "id": "01449fb0",
   "metadata": {},
   "outputs": [],
   "source": [
    "# y_pred = model.predict(X_test_transformed)\n",
    "# f1 = f1_score(Y_test, y_pred)\n",
    "# print(\"Validation F1 Score: \", f1)"
   ]
  },
  {
   "cell_type": "code",
   "execution_count": null,
   "id": "00067708",
   "metadata": {},
   "outputs": [],
   "source": [
    "# print(\"Classification report: \", classification_report(Y_test, X_test_prediction))  "
   ]
  },
  {
   "cell_type": "code",
   "execution_count": 136,
   "id": "a2c3d46c",
   "metadata": {},
   "outputs": [],
   "source": [
    "with open(\"models/tfidf_vectorizer.pkl\", \"wb\") as f:\n",
    "    pickle.dump(vectorizer, f)"
   ]
  },
  {
   "cell_type": "code",
   "execution_count": 137,
   "id": "ee63ab08",
   "metadata": {},
   "outputs": [],
   "source": [
    "with open(\"models/model.pkl\", \"wb\") as f:\n",
    "    pickle.dump(model, f)"
   ]
  }
 ],
 "metadata": {
  "kernelspec": {
   "display_name": "base",
   "language": "python",
   "name": "python3"
  },
  "language_info": {
   "codemirror_mode": {
    "name": "ipython",
    "version": 3
   },
   "file_extension": ".py",
   "mimetype": "text/x-python",
   "name": "python",
   "nbconvert_exporter": "python",
   "pygments_lexer": "ipython3",
   "version": "3.12.7"
  }
 },
 "nbformat": 4,
 "nbformat_minor": 5
}
